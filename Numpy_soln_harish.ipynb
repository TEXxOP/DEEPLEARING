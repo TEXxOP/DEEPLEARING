{
 "cells": [
  {
   "cell_type": "markdown",
   "metadata": {
    "id": "5YNIISPploTY"
   },
   "source": [
    "_____\n",
    "**Write a program to create an array [10, 5, 7, 20, 15, -9, 33], print it, Find the maximum and minimum Value of the array**"
   ]
  },
  {
   "cell_type": "code",
   "execution_count": 1,
   "metadata": {
    "id": "LGwQ0y0wloTY"
   },
   "outputs": [
    {
     "name": "stdout",
     "output_type": "stream",
     "text": [
      "Array: [10, 5, 7, 20, 15, -9, 33]\n",
      "Maximum Value: 33\n",
      "Minimum Value: -9\n"
     ]
    }
   ],
   "source": [
    "#Code here\n",
    "arr = [10, 5, 7, 20, 15, -9, 33]\n",
    "print(\"Array:\", arr)\n",
    "print(\"Maximum Value:\", max(arr))\n",
    "print(\"Minimum Value:\", min(arr))"
   ]
  },
  {
   "cell_type": "markdown",
   "metadata": {
    "id": "CjKQrl4ZloTY"
   },
   "source": [
    "______\n",
    "**Write a program to accept an array of elements and find the maximum without using max function**"
   ]
  },
  {
   "cell_type": "code",
   "execution_count": 2,
   "metadata": {
    "id": "jFqGo32uloTY"
   },
   "outputs": [
    {
     "name": "stdin",
     "output_type": "stream",
     "text": [
      "Enter elements separated by space:  4 6 8 5 9\n"
     ]
    },
    {
     "name": "stdout",
     "output_type": "stream",
     "text": [
      "Maximum Value: 9\n"
     ]
    }
   ],
   "source": [
    "#Code here\n",
    "elements = list(map(int, input(\"Enter elements separated by space: \").split()))\n",
    "max_value = elements[0]\n",
    "for num in elements:\n",
    "    if num > max_value:\n",
    "        max_value = num\n",
    "print(\"Maximum Value:\", max_value)"
   ]
  },
  {
   "cell_type": "markdown",
   "metadata": {
    "id": "V1Tbn_avloTY"
   },
   "source": [
    "___\n",
    "**Write a program to accept two matrices [[1,2],[3,4]],   [[2,4],[6,8]]and find the sum and subtraction of two matrices**"
   ]
  },
  {
   "cell_type": "code",
   "execution_count": 3,
   "metadata": {
    "id": "jyu705aKloTZ"
   },
   "outputs": [
    {
     "name": "stdout",
     "output_type": "stream",
     "text": [
      "Sum of Matrices:\n",
      "[3, 6]\n",
      "[9, 12]\n",
      "\n",
      "Subtraction of Matrices:\n",
      "[-1, -2]\n",
      "[-3, -4]\n"
     ]
    }
   ],
   "source": [
    "#Code here\n",
    "matrix1 = [[1, 2], [3, 4]]\n",
    "matrix2 = [[2,\n",
    "4], [6, 8]]\n",
    "\n",
    "def add_matrices(mat1, mat2):\n",
    "    result = []\n",
    "    for i in range(len(mat1)):\n",
    "        row = []\n",
    "        for j in range(len(mat1[0])):\n",
    "            row.append(mat1[i][j] + mat2[i][j])\n",
    "        result.append(row)\n",
    "    return result\n",
    "\n",
    "def subtract_matrices(mat1, mat2):\n",
    "    result = []\n",
    "    for i in range(len(mat1)):\n",
    "        row = []\n",
    "        for j in range(len(mat1[0])):\n",
    "            row.append(mat1[i][j] - mat2[i][j])\n",
    "        result.append(row)\n",
    "    return result\n",
    "\n",
    "sum_matrix = add_matrices(matrix1, matrix2)\n",
    "subtraction_matrix = subtract_matrices(matrix1, matrix2)\n",
    "\n",
    "print(\"Sum of Matrices:\")\n",
    "for row in sum_matrix:\n",
    "    print(row)\n",
    "\n",
    "print(\"\\nSubtraction of Matrices:\")\n",
    "for row in subtraction_matrix:\n",
    "    print(row)"
   ]
  },
  {
   "cell_type": "markdown",
   "metadata": {
    "id": "e8iqIwlxloTZ"
   },
   "source": [
    "___\n",
    "**Write a program to generate a ranodom matrix of size 5 X 6. Add another row containing random elements to it. Find the sum of each row.**"
   ]
  },
  {
   "cell_type": "code",
   "execution_count": 9,
   "metadata": {
    "id": "RFvvJzj3loTZ"
   },
   "outputs": [
    {
     "name": "stdout",
     "output_type": "stream",
     "text": [
      "Matrix:\n",
      "[[77 21  1 52 58 58]\n",
      " [42  9 99 58 75 10]\n",
      " [85 37  1 69 33 60]\n",
      " [69 60 18 47 22 81]\n",
      " [11 76 66 33  1 53]\n",
      " [44 33 95 28 39 66]]\n",
      "\n",
      "Sum of Each Row:\n",
      "[267 293 285 297 240 305]\n"
     ]
    }
   ],
   "source": [
    "#Code here\n",
    "matrix = np.random.randint(1, 100, size=(5,\n",
    "6))\n",
    "new_row = np.random.randint(1, 100, size=(1,\n",
    "6))\n",
    "matrix = np.vstack([matrix, new_row])\n",
    "row_sums = np.sum(matrix, axis=1)\n",
    "print(\"Matrix:\")\n",
    "print(matrix)\n",
    "print(\"\\nSum of Each Row:\")\n",
    "print(row_sums)"
   ]
  },
  {
   "cell_type": "markdown",
   "metadata": {
    "id": "CIhpDElPloTZ"
   },
   "source": [
    "___\n",
    "**Write a program to generate a ranodm integer matrix of size 5 X 6. Add another column containing random integers to it. Compute the sine of each element and print it**"
   ]
  },
  {
   "cell_type": "code",
   "execution_count": 8,
   "metadata": {
    "id": "HXJgYMTDloTZ"
   },
   "outputs": [
    {
     "name": "stdout",
     "output_type": "stream",
     "text": [
      "Matrix:\n",
      "[[40 15 56 17 45 53 83]\n",
      " [27 80 33 98 12 98 26]\n",
      " [95 11 29 25  5 36 31]\n",
      " [27 53 93 50 94  4  9]\n",
      " [73 45 40 55 25 48 44]]\n",
      "\n",
      "Sine of Each Element:\n",
      "[[ 0.74511316  0.65028784 -0.521551   -0.96139749  0.85090352  0.39592515\n",
      "   0.96836446]\n",
      " [ 0.95637593 -0.99388865  0.99991186 -0.57338187 -0.53657292 -0.57338187\n",
      "   0.76255845]\n",
      " [ 0.68326171 -0.99999021 -0.66363388 -0.13235175 -0.95892427 -0.99177885\n",
      "  -0.40403765]\n",
      " [ 0.95637593  0.39592515 -0.94828214 -0.26237485 -0.24525199 -0.7568025\n",
      "   0.41211849]\n",
      " [-0.67677196  0.85090352  0.74511316 -0.99975517 -0.13235175 -0.76825466\n",
      "   0.01770193]]\n"
     ]
    }
   ],
   "source": [
    "#Code here\n",
    "matrix = np.random.randint(1, 100, size=(5, 6))\n",
    "new_column = np.random.randint(1, 100, size=(5,\n",
    "1))\n",
    "matrix = np.hstack([matrix, new_column])\n",
    "sine_matrix = np.sin(matrix)\n",
    "print(\"Matrix:\")\n",
    "print(matrix)\n",
    "print(\"\\nSine of Each Element:\")\n",
    "print(sine_matrix)"
   ]
  },
  {
   "cell_type": "markdown",
   "metadata": {
    "id": "-St006l8loTZ"
   },
   "source": [
    "___\n",
    "**Write a program to generate a ranodm matrix of size 5 X 6. Consider the 3rd and 4th row; and 2nd, 3rd and 4th column and print the resultant matrix using slicing**"
   ]
  },
  {
   "cell_type": "code",
   "execution_count": 7,
   "metadata": {
    "id": "SUSwF0zRloTZ"
   },
   "outputs": [
    {
     "name": "stdout",
     "output_type": "stream",
     "text": [
      "Original Matrix:\n",
      "[[47 76 64 27 33 74]\n",
      " [ 6 67 12 99 16 80]\n",
      " [44 67  6 88 73 11]\n",
      " [38 65 20 62 72 81]\n",
      " [57 77 83 88 65 18]]\n",
      "\n",
      "Resultant Matrix (Rows 3-4, Columns 2-4):\n",
      "[[67  6 88]\n",
      " [65 20 62]]\n"
     ]
    }
   ],
   "source": [
    "#Code here\n",
    "matrix = np.random.randint(1, 100, size=(5, 6))\n",
    "resultant_matrix = matrix[2:4,\n",
    "1:4]\n",
    "print(\"Original Matrix:\")\n",
    "print(matrix)\n",
    "print(\"\\nResultant Matrix (Rows 3-4, Columns 2-4):\")\n",
    "print(resultant_matrix)"
   ]
  },
  {
   "cell_type": "markdown",
   "metadata": {
    "id": "np6xZQWTloTa"
   },
   "source": [
    "### Great Job!"
   ]
  }
 ],
 "metadata": {
  "colab": {
   "provenance": []
  },
  "kernelspec": {
   "display_name": "Python 3 (ipykernel)",
   "language": "python",
   "name": "python3"
  },
  "language_info": {
   "codemirror_mode": {
    "name": "ipython",
    "version": 3
   },
   "file_extension": ".py",
   "mimetype": "text/x-python",
   "name": "python",
   "nbconvert_exporter": "python",
   "pygments_lexer": "ipython3",
   "version": "3.13.1"
  }
 },
 "nbformat": 4,
 "nbformat_minor": 4
}
